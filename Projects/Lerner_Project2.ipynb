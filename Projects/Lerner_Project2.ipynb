{
  "nbformat": 4,
  "nbformat_minor": 0,
  "metadata": {
    "colab": {
      "provenance": []
    },
    "kernelspec": {
      "name": "python3",
      "display_name": "Python 3"
    },
    "language_info": {
      "name": "python"
    }
  },
  "cells": [
    {
      "cell_type": "code",
      "source": [
        "import matplotlib.pyplot as plt\n",
        "import numpy as np\n",
        "import pandas as pd\n",
        "from sklearn.linear_model import LinearRegression, Ridge\n",
        "from sklearn.preprocessing import StandardScaler, QuantileTransformer, MinMaxScaler, PolynomialFeatures\n",
        "from sklearn.decomposition import PCA\n",
        "from scipy.spatial import Delaunay\n",
        "from sklearn.ensemble import RandomForestRegressor\n",
        "from sklearn.pipeline import Pipeline\n",
        "import scipy.stats as stats\n",
        "from sklearn.model_selection import train_test_split as tts, KFold, GridSearchCV\n",
        "from sklearn.metrics import mean_squared_error as mse\n",
        "from scipy.interpolate import interp1d, RegularGridInterpolator, griddata, LinearNDInterpolator, NearestNDInterpolator\n",
        "from math import ceil\n",
        "from scipy import linalg\n",
        "\n",
        "from sklearn.base import BaseEstimator, RegressorMixin\n",
        "from sklearn.utils.validation import check_X_y, check_array, check_is_fitted\n",
        ""
      ],
      "metadata": {
        "id": "V98lw0Jw9js1"
      },
      "execution_count": 22,
      "outputs": []
    },
    {
      "cell_type": "code",
      "source": [
        "from scipy.spatial.distance import cdist\n",
        "import xgboost\n",
        "from sklearn import linear_model"
      ],
      "metadata": {
        "id": "ebxb7EEFEZpI"
      },
      "execution_count": 23,
      "outputs": []
    },
    {
      "cell_type": "markdown",
      "source": [
        "# 1)"
      ],
      "metadata": {
        "id": "msOlUIwOavKH"
      }
    },
    {
      "cell_type": "markdown",
      "source": [
        "### Part a)\n",
        "Create your class that implements the Gradient Boosting concept, based on the locally weighted regression method (Lowess class), and that allows a user-prescribed number of boosting steps.\n",
        "Required methods:\n",
        " - fit\n",
        " - is_fitted\n",
        " - predict"
      ],
      "metadata": {
        "id": "c6A_SUmJcfr6"
      }
    },
    {
      "cell_type": "markdown",
      "source": [
        "----"
      ],
      "metadata": {
        "id": "5_IP2nQ8Ic8x"
      }
    },
    {
      "cell_type": "code",
      "source": [
        "# Gaussian Kernel\n",
        "def Gaussian(w):\n",
        "  return np.where(w>4,0,1/(np.sqrt(2*np.pi))*np.exp(-1/2*w**2))\n",
        "\n",
        "# Tricubic Kernel\n",
        "def Tricubic(w):\n",
        "  return np.where(w>1,0,70/81*(1-w**3)**3)\n",
        "\n",
        "# Quartic Kernel\n",
        "def Quartic(w):\n",
        "  return np.where(w>1,0,15/16*(1-w**2)**2)\n",
        "\n",
        "# Epanechnikov Kernel\n",
        "def Epanechnikov(w):\n",
        "  return np.where(w>1,0,3/4*(1-w**2))"
      ],
      "metadata": {
        "id": "tRvyOVTs99NZ"
      },
      "execution_count": 24,
      "outputs": []
    },
    {
      "cell_type": "code",
      "source": [
        "def dist(u,v):\n",
        "  if len(v.shape)==1:\n",
        "    v = v.reshape(1,-1)\n",
        "  d = np.array([np.sqrt(np.sum((u-v[i])**2,axis=1)) for i in range(len(v))])\n",
        "  return d"
      ],
      "metadata": {
        "id": "lKZMGdOM-ZMz"
      },
      "execution_count": 25,
      "outputs": []
    },
    {
      "cell_type": "code",
      "source": [
        "def weight_function(u,v,kern=Gaussian,tau=0.5):\n",
        "    return kern(cdist(u, v, metric='euclidean')/(2*tau))\n",
        ""
      ],
      "metadata": {
        "id": "LdMWTGWjIcb8"
      },
      "execution_count": 26,
      "outputs": []
    },
    {
      "cell_type": "markdown",
      "source": [
        "---\n"
      ],
      "metadata": {
        "id": "1N-tLFTtIdNs"
      }
    },
    {
      "cell_type": "code",
      "source": [
        "def lw_ag_md(x, y, xnew,f=2/3,iter=3, intercept=True):\n",
        "\n",
        "  n = len(x)\n",
        "  r = int(ceil(f * n))\n",
        "  yest = np.zeros(n)\n",
        "\n",
        "  if len(y.shape)==1: # here we make column vectors\n",
        "    y = y.reshape(-1,1)\n",
        "\n",
        "  if len(x.shape)==1:\n",
        "    x = x.reshape(-1,1)\n",
        "\n",
        "  if intercept:\n",
        "    x1 = np.column_stack([np.ones((len(x),1)),x])\n",
        "  else:\n",
        "    x1 = x\n",
        "\n",
        "  h = [np.sort(np.sqrt(np.sum((x-x[i])**2,axis=1)))[r] for i in range(n)]\n",
        "  # dist(x,x) is always symmetric\n",
        "  w = np.clip(dist(x,x) / np.array(h), 0.0, 1.0)\n",
        "  # note that w is a square matrix and in Python arithmetic operations such as\n",
        "  # w**3 or 1-w**3 are performed element-wise\n",
        "  #w = (1-w**3)**3 # a Tricubic kernel\n",
        "  w = Epanechnikov(w)\n",
        "\n",
        "  #Looping through all X-points\n",
        "  delta = np.ones(n)\n",
        "  for iteration in range(iter):\n",
        "    for i in range(n):\n",
        "      W = np.diag(delta).dot(np.diag(w[i,:]))\n",
        "      # when we multiply two diagonal matrices we get also a diagonal matrix\n",
        "      b = np.transpose(x1).dot(W).dot(y)\n",
        "      A = np.transpose(x1).dot(W).dot(x1)\n",
        "      ##\n",
        "      A = A + 0.0001*np.eye(x1.shape[1]) # if we want L2 regularization for solving the system\n",
        "      beta = linalg.solve(A, b)\n",
        "\n",
        "      #beta, res, rnk, s = linalg.lstsq(A, b)\n",
        "      yest[i] = np.dot(x1[i],beta.ravel())\n",
        "\n",
        "    residuals = y.ravel() - yest\n",
        "    s = np.median(np.abs(residuals))\n",
        "\n",
        "    delta = np.clip(residuals / (6.0 * s), -1, 1)\n",
        "\n",
        "    delta = (1 - delta ** 2) ** 2\n",
        "\n",
        "  # here we are making predictions for xnew by using an interpolation and the predictions we made for the train data\n",
        "  if x.shape[1]==1:\n",
        "    f = interp1d(x.flatten(),yest,fill_value='extrapolate')\n",
        "    output = f(xnew)\n",
        "  else:\n",
        "    output = np.zeros(len(xnew))\n",
        "    for i in range(len(xnew)):\n",
        "      ind = np.argsort(np.sqrt(np.sum((x-xnew[i])**2,axis=1)))[:r]\n",
        "      pca = PCA(n_components=3)\n",
        "      x_pca = pca.fit_transform(x[ind])\n",
        "      tri = Delaunay(x_pca,qhull_options='QJ Pp')\n",
        "      f = LinearNDInterpolator(tri,yest[ind])\n",
        "      output[i] = f(pca.transform(xnew[i].reshape(1,-1)))\n",
        "      # the output may have NaN's where the data points from xnew are outside the convex hull of X\n",
        "\n",
        "  if sum(np.isnan(output))>0:\n",
        "    g = NearestNDInterpolator(x,yest.ravel())\n",
        "    # output[np.isnan(output)] = g(X[np.isnan(output)])\n",
        "    output[np.isnan(output)] = g(xnew[np.isnan(output)])\n",
        "  return output"
      ],
      "metadata": {
        "id": "20TPZu6u-ZJ8"
      },
      "execution_count": 27,
      "outputs": []
    },
    {
      "cell_type": "code",
      "source": [],
      "metadata": {
        "id": "RzZ_eep3-ZCJ"
      },
      "execution_count": null,
      "outputs": []
    },
    {
      "cell_type": "code",
      "execution_count": 8,
      "metadata": {
        "id": "po97EYeWarZK"
      },
      "outputs": [],
      "source": [
        "class MyGradientBoost():\n",
        "  def __init__(self, kernel = 'Gaussian', tau = .2):\n",
        "    self.kernel = kernel\n",
        "    self.tau = tau\n",
        "    return\n",
        "\n",
        "  def fit(self, x, y):\n",
        "    kernel = self.kernel\n",
        "    tau = self.tau\n",
        "    self.xtrain_ = x\n",
        "    self.yhat_ = y\n",
        "\n",
        "  def is_fitted(self):\n",
        "    check_is_fitted(self)\n",
        "\n",
        "  def predict(self, x_new):\n",
        "    self.is_fitted()\n",
        "    x = self.xtrain_\n",
        "    y = self.yhat_\n",
        "    lm = linear_model.Ridge(alpha=0.001)\n",
        "    w = weight_function(x,x_new,self.kernel,self.tau)\n",
        "\n",
        "    if np.isscalar(x_new):\n",
        "      lm.fit(np.diag(w)@(x.reshape(-1,1)),np.diag(w)@(y.reshape(-1,1)))\n",
        "      yest = lm.predict([[x_new]])[0][0]\n",
        "    else:\n",
        "      n = len(x_new)\n",
        "      yest_test = np.zeros(n)\n",
        "      #Looping through all x-points\n",
        "      for i in range(n):\n",
        "        lm.fit(np.diag(w[:,i])@x,np.diag(w[:,i])@y)\n",
        "        yest_test[i] = lm.predict([x_new[i]])\n",
        "    return yest_test\n",
        "\n",
        "\n",
        "\n",
        "\n"
      ]
    },
    {
      "cell_type": "code",
      "source": [
        "class GradBoost:\n",
        "    def __init__(self, kernel = Gaussian, tau=0.05):\n",
        "        self.kernel = kernel\n",
        "        self.tau = tau\n",
        "\n",
        "    def fit(self, x, y):\n",
        "        kernel = self.kernel\n",
        "        tau = self.tau\n",
        "        self.xtrain_ = x\n",
        "        self.yhat_ = y\n",
        "\n",
        "    def predict(self, x_new):\n",
        "        check_is_fitted(self)\n",
        "        x = self.xtrain_\n",
        "        y = self.yhat_\n",
        "        lm = linear_model.Ridge(alpha=0.001)\n",
        "        w = weight_function(x,x_new,self.kernel,self.tau)\n",
        "\n",
        "        if np.isscalar(x_new):\n",
        "          lm.fit(np.diag(w)@(x.reshape(-1,1)),np.diag(w)@(y.reshape(-1,1)))\n",
        "          yest = lm.predict([[x_new]])[0][0]\n",
        "        else:\n",
        "          n = len(x_new)\n",
        "          yest_test = np.zeros(n)\n",
        "          #Looping through all x-points\n",
        "          for i in range(n):\n",
        "            lm.fit(np.diag(w[:,i])@x,np.diag(w[:,i])@y)\n",
        "            yest_test[i] = lm.predict([x_new[i]])\n",
        "        return yest_test"
      ],
      "metadata": {
        "id": "rdzfBoiSbMuz"
      },
      "execution_count": 29,
      "outputs": []
    },
    {
      "cell_type": "code",
      "source": [],
      "metadata": {
        "id": "POgFZdASbMkZ"
      },
      "execution_count": null,
      "outputs": []
    },
    {
      "cell_type": "markdown",
      "source": [
        "### Part b)\n",
        "- Show applications with real data for regression\n",
        "  - For concrete dataset, determine a choice of hyperparameters that yield lower MSEs for your method thean the eXtream Gradient Boosting Library\n",
        "- 10-fold cross-validation\n",
        "- Compare effects on different scalers\n",
        "  - StandardScaler\n",
        "  - MinMaxScaler\n",
        "  - QuantileScaler"
      ],
      "metadata": {
        "id": "mvEyhCZtccRu"
      }
    },
    {
      "cell_type": "code",
      "source": [
        "scaler_s = StandardScaler()\n",
        "scaler_q = QuantileTransformer()\n",
        "scaler_m = MinMaxScaler()"
      ],
      "metadata": {
        "id": "uXj_aYLb9oSD"
      },
      "execution_count": 15,
      "outputs": []
    },
    {
      "cell_type": "code",
      "source": [
        "scaler_list = [scaler_s, scaler_m, scaler_q]"
      ],
      "metadata": {
        "id": "OLrpsVCXKXq8"
      },
      "execution_count": 19,
      "outputs": []
    },
    {
      "cell_type": "code",
      "source": [
        "data = pd.read_csv('/content/drive/MyDrive/W&M/F23/DATA301_Data/concrete.csv')"
      ],
      "metadata": {
        "id": "bLEHDgNwcqBY"
      },
      "execution_count": 9,
      "outputs": []
    },
    {
      "cell_type": "code",
      "source": [
        "data.head(3)"
      ],
      "metadata": {
        "id": "tsN3gnk8cp8c",
        "colab": {
          "base_uri": "https://localhost:8080/",
          "height": 143
        },
        "outputId": "bf7ff9fe-3ddf-4bd4-9c39-d05ca716ca35"
      },
      "execution_count": 17,
      "outputs": [
        {
          "output_type": "execute_result",
          "data": {
            "text/plain": [
              "   cement   slag  ash  water  superplastic  coarseagg  fineagg  age  strength\n",
              "0   540.0    0.0  0.0  162.0           2.5     1040.0    676.0   28     79.99\n",
              "1   540.0    0.0  0.0  162.0           2.5     1055.0    676.0   28     61.89\n",
              "2   332.5  142.5  0.0  228.0           0.0      932.0    594.0  270     40.27"
            ],
            "text/html": [
              "\n",
              "  <div id=\"df-fe81249a-0430-43b9-a4e2-0546882f7f10\" class=\"colab-df-container\">\n",
              "    <div>\n",
              "<style scoped>\n",
              "    .dataframe tbody tr th:only-of-type {\n",
              "        vertical-align: middle;\n",
              "    }\n",
              "\n",
              "    .dataframe tbody tr th {\n",
              "        vertical-align: top;\n",
              "    }\n",
              "\n",
              "    .dataframe thead th {\n",
              "        text-align: right;\n",
              "    }\n",
              "</style>\n",
              "<table border=\"1\" class=\"dataframe\">\n",
              "  <thead>\n",
              "    <tr style=\"text-align: right;\">\n",
              "      <th></th>\n",
              "      <th>cement</th>\n",
              "      <th>slag</th>\n",
              "      <th>ash</th>\n",
              "      <th>water</th>\n",
              "      <th>superplastic</th>\n",
              "      <th>coarseagg</th>\n",
              "      <th>fineagg</th>\n",
              "      <th>age</th>\n",
              "      <th>strength</th>\n",
              "    </tr>\n",
              "  </thead>\n",
              "  <tbody>\n",
              "    <tr>\n",
              "      <th>0</th>\n",
              "      <td>540.0</td>\n",
              "      <td>0.0</td>\n",
              "      <td>0.0</td>\n",
              "      <td>162.0</td>\n",
              "      <td>2.5</td>\n",
              "      <td>1040.0</td>\n",
              "      <td>676.0</td>\n",
              "      <td>28</td>\n",
              "      <td>79.99</td>\n",
              "    </tr>\n",
              "    <tr>\n",
              "      <th>1</th>\n",
              "      <td>540.0</td>\n",
              "      <td>0.0</td>\n",
              "      <td>0.0</td>\n",
              "      <td>162.0</td>\n",
              "      <td>2.5</td>\n",
              "      <td>1055.0</td>\n",
              "      <td>676.0</td>\n",
              "      <td>28</td>\n",
              "      <td>61.89</td>\n",
              "    </tr>\n",
              "    <tr>\n",
              "      <th>2</th>\n",
              "      <td>332.5</td>\n",
              "      <td>142.5</td>\n",
              "      <td>0.0</td>\n",
              "      <td>228.0</td>\n",
              "      <td>0.0</td>\n",
              "      <td>932.0</td>\n",
              "      <td>594.0</td>\n",
              "      <td>270</td>\n",
              "      <td>40.27</td>\n",
              "    </tr>\n",
              "  </tbody>\n",
              "</table>\n",
              "</div>\n",
              "    <div class=\"colab-df-buttons\">\n",
              "\n",
              "  <div class=\"colab-df-container\">\n",
              "    <button class=\"colab-df-convert\" onclick=\"convertToInteractive('df-fe81249a-0430-43b9-a4e2-0546882f7f10')\"\n",
              "            title=\"Convert this dataframe to an interactive table.\"\n",
              "            style=\"display:none;\">\n",
              "\n",
              "  <svg xmlns=\"http://www.w3.org/2000/svg\" height=\"24px\" viewBox=\"0 -960 960 960\">\n",
              "    <path d=\"M120-120v-720h720v720H120Zm60-500h600v-160H180v160Zm220 220h160v-160H400v160Zm0 220h160v-160H400v160ZM180-400h160v-160H180v160Zm440 0h160v-160H620v160ZM180-180h160v-160H180v160Zm440 0h160v-160H620v160Z\"/>\n",
              "  </svg>\n",
              "    </button>\n",
              "\n",
              "  <style>\n",
              "    .colab-df-container {\n",
              "      display:flex;\n",
              "      gap: 12px;\n",
              "    }\n",
              "\n",
              "    .colab-df-convert {\n",
              "      background-color: #E8F0FE;\n",
              "      border: none;\n",
              "      border-radius: 50%;\n",
              "      cursor: pointer;\n",
              "      display: none;\n",
              "      fill: #1967D2;\n",
              "      height: 32px;\n",
              "      padding: 0 0 0 0;\n",
              "      width: 32px;\n",
              "    }\n",
              "\n",
              "    .colab-df-convert:hover {\n",
              "      background-color: #E2EBFA;\n",
              "      box-shadow: 0px 1px 2px rgba(60, 64, 67, 0.3), 0px 1px 3px 1px rgba(60, 64, 67, 0.15);\n",
              "      fill: #174EA6;\n",
              "    }\n",
              "\n",
              "    .colab-df-buttons div {\n",
              "      margin-bottom: 4px;\n",
              "    }\n",
              "\n",
              "    [theme=dark] .colab-df-convert {\n",
              "      background-color: #3B4455;\n",
              "      fill: #D2E3FC;\n",
              "    }\n",
              "\n",
              "    [theme=dark] .colab-df-convert:hover {\n",
              "      background-color: #434B5C;\n",
              "      box-shadow: 0px 1px 3px 1px rgba(0, 0, 0, 0.15);\n",
              "      filter: drop-shadow(0px 1px 2px rgba(0, 0, 0, 0.3));\n",
              "      fill: #FFFFFF;\n",
              "    }\n",
              "  </style>\n",
              "\n",
              "    <script>\n",
              "      const buttonEl =\n",
              "        document.querySelector('#df-fe81249a-0430-43b9-a4e2-0546882f7f10 button.colab-df-convert');\n",
              "      buttonEl.style.display =\n",
              "        google.colab.kernel.accessAllowed ? 'block' : 'none';\n",
              "\n",
              "      async function convertToInteractive(key) {\n",
              "        const element = document.querySelector('#df-fe81249a-0430-43b9-a4e2-0546882f7f10');\n",
              "        const dataTable =\n",
              "          await google.colab.kernel.invokeFunction('convertToInteractive',\n",
              "                                                    [key], {});\n",
              "        if (!dataTable) return;\n",
              "\n",
              "        const docLinkHtml = 'Like what you see? Visit the ' +\n",
              "          '<a target=\"_blank\" href=https://colab.research.google.com/notebooks/data_table.ipynb>data table notebook</a>'\n",
              "          + ' to learn more about interactive tables.';\n",
              "        element.innerHTML = '';\n",
              "        dataTable['output_type'] = 'display_data';\n",
              "        await google.colab.output.renderOutput(dataTable, element);\n",
              "        const docLink = document.createElement('div');\n",
              "        docLink.innerHTML = docLinkHtml;\n",
              "        element.appendChild(docLink);\n",
              "      }\n",
              "    </script>\n",
              "  </div>\n",
              "\n",
              "\n",
              "<div id=\"df-8411453a-a29f-4544-8fc9-592c69a55ec8\">\n",
              "  <button class=\"colab-df-quickchart\" onclick=\"quickchart('df-8411453a-a29f-4544-8fc9-592c69a55ec8')\"\n",
              "            title=\"Suggest charts\"\n",
              "            style=\"display:none;\">\n",
              "\n",
              "<svg xmlns=\"http://www.w3.org/2000/svg\" height=\"24px\"viewBox=\"0 0 24 24\"\n",
              "     width=\"24px\">\n",
              "    <g>\n",
              "        <path d=\"M19 3H5c-1.1 0-2 .9-2 2v14c0 1.1.9 2 2 2h14c1.1 0 2-.9 2-2V5c0-1.1-.9-2-2-2zM9 17H7v-7h2v7zm4 0h-2V7h2v10zm4 0h-2v-4h2v4z\"/>\n",
              "    </g>\n",
              "</svg>\n",
              "  </button>\n",
              "\n",
              "<style>\n",
              "  .colab-df-quickchart {\n",
              "      --bg-color: #E8F0FE;\n",
              "      --fill-color: #1967D2;\n",
              "      --hover-bg-color: #E2EBFA;\n",
              "      --hover-fill-color: #174EA6;\n",
              "      --disabled-fill-color: #AAA;\n",
              "      --disabled-bg-color: #DDD;\n",
              "  }\n",
              "\n",
              "  [theme=dark] .colab-df-quickchart {\n",
              "      --bg-color: #3B4455;\n",
              "      --fill-color: #D2E3FC;\n",
              "      --hover-bg-color: #434B5C;\n",
              "      --hover-fill-color: #FFFFFF;\n",
              "      --disabled-bg-color: #3B4455;\n",
              "      --disabled-fill-color: #666;\n",
              "  }\n",
              "\n",
              "  .colab-df-quickchart {\n",
              "    background-color: var(--bg-color);\n",
              "    border: none;\n",
              "    border-radius: 50%;\n",
              "    cursor: pointer;\n",
              "    display: none;\n",
              "    fill: var(--fill-color);\n",
              "    height: 32px;\n",
              "    padding: 0;\n",
              "    width: 32px;\n",
              "  }\n",
              "\n",
              "  .colab-df-quickchart:hover {\n",
              "    background-color: var(--hover-bg-color);\n",
              "    box-shadow: 0 1px 2px rgba(60, 64, 67, 0.3), 0 1px 3px 1px rgba(60, 64, 67, 0.15);\n",
              "    fill: var(--button-hover-fill-color);\n",
              "  }\n",
              "\n",
              "  .colab-df-quickchart-complete:disabled,\n",
              "  .colab-df-quickchart-complete:disabled:hover {\n",
              "    background-color: var(--disabled-bg-color);\n",
              "    fill: var(--disabled-fill-color);\n",
              "    box-shadow: none;\n",
              "  }\n",
              "\n",
              "  .colab-df-spinner {\n",
              "    border: 2px solid var(--fill-color);\n",
              "    border-color: transparent;\n",
              "    border-bottom-color: var(--fill-color);\n",
              "    animation:\n",
              "      spin 1s steps(1) infinite;\n",
              "  }\n",
              "\n",
              "  @keyframes spin {\n",
              "    0% {\n",
              "      border-color: transparent;\n",
              "      border-bottom-color: var(--fill-color);\n",
              "      border-left-color: var(--fill-color);\n",
              "    }\n",
              "    20% {\n",
              "      border-color: transparent;\n",
              "      border-left-color: var(--fill-color);\n",
              "      border-top-color: var(--fill-color);\n",
              "    }\n",
              "    30% {\n",
              "      border-color: transparent;\n",
              "      border-left-color: var(--fill-color);\n",
              "      border-top-color: var(--fill-color);\n",
              "      border-right-color: var(--fill-color);\n",
              "    }\n",
              "    40% {\n",
              "      border-color: transparent;\n",
              "      border-right-color: var(--fill-color);\n",
              "      border-top-color: var(--fill-color);\n",
              "    }\n",
              "    60% {\n",
              "      border-color: transparent;\n",
              "      border-right-color: var(--fill-color);\n",
              "    }\n",
              "    80% {\n",
              "      border-color: transparent;\n",
              "      border-right-color: var(--fill-color);\n",
              "      border-bottom-color: var(--fill-color);\n",
              "    }\n",
              "    90% {\n",
              "      border-color: transparent;\n",
              "      border-bottom-color: var(--fill-color);\n",
              "    }\n",
              "  }\n",
              "</style>\n",
              "\n",
              "  <script>\n",
              "    async function quickchart(key) {\n",
              "      const quickchartButtonEl =\n",
              "        document.querySelector('#' + key + ' button');\n",
              "      quickchartButtonEl.disabled = true;  // To prevent multiple clicks.\n",
              "      quickchartButtonEl.classList.add('colab-df-spinner');\n",
              "      try {\n",
              "        const charts = await google.colab.kernel.invokeFunction(\n",
              "            'suggestCharts', [key], {});\n",
              "      } catch (error) {\n",
              "        console.error('Error during call to suggestCharts:', error);\n",
              "      }\n",
              "      quickchartButtonEl.classList.remove('colab-df-spinner');\n",
              "      quickchartButtonEl.classList.add('colab-df-quickchart-complete');\n",
              "    }\n",
              "    (() => {\n",
              "      let quickchartButtonEl =\n",
              "        document.querySelector('#df-8411453a-a29f-4544-8fc9-592c69a55ec8 button');\n",
              "      quickchartButtonEl.style.display =\n",
              "        google.colab.kernel.accessAllowed ? 'block' : 'none';\n",
              "    })();\n",
              "  </script>\n",
              "</div>\n",
              "    </div>\n",
              "  </div>\n"
            ],
            "application/vnd.google.colaboratory.intrinsic+json": {
              "type": "dataframe",
              "variable_name": "data",
              "summary": "{\n  \"name\": \"data\",\n  \"rows\": 1030,\n  \"fields\": [\n    {\n      \"column\": \"cement\",\n      \"properties\": {\n        \"dtype\": \"number\",\n        \"std\": 104.50636449481532,\n        \"min\": 102.0,\n        \"max\": 540.0,\n        \"num_unique_values\": 278,\n        \"samples\": [\n          337.9,\n          290.2,\n          262.0\n        ],\n        \"semantic_type\": \"\",\n        \"description\": \"\"\n      }\n    },\n    {\n      \"column\": \"slag\",\n      \"properties\": {\n        \"dtype\": \"number\",\n        \"std\": 86.27934174810584,\n        \"min\": 0.0,\n        \"max\": 359.4,\n        \"num_unique_values\": 185,\n        \"samples\": [\n          94.7,\n          119.0,\n          136.3\n        ],\n        \"semantic_type\": \"\",\n        \"description\": \"\"\n      }\n    },\n    {\n      \"column\": \"ash\",\n      \"properties\": {\n        \"dtype\": \"number\",\n        \"std\": 63.99700415268765,\n        \"min\": 0.0,\n        \"max\": 200.1,\n        \"num_unique_values\": 156,\n        \"samples\": [\n          98.0,\n          142.0,\n          195.0\n        ],\n        \"semantic_type\": \"\",\n        \"description\": \"\"\n      }\n    },\n    {\n      \"column\": \"water\",\n      \"properties\": {\n        \"dtype\": \"number\",\n        \"std\": 21.35421856503247,\n        \"min\": 121.8,\n        \"max\": 247.0,\n        \"num_unique_values\": 195,\n        \"samples\": [\n          195.4,\n          183.8,\n          127.3\n        ],\n        \"semantic_type\": \"\",\n        \"description\": \"\"\n      }\n    },\n    {\n      \"column\": \"superplastic\",\n      \"properties\": {\n        \"dtype\": \"number\",\n        \"std\": 5.97384139248552,\n        \"min\": 0.0,\n        \"max\": 32.2,\n        \"num_unique_values\": 111,\n        \"samples\": [\n          15.0,\n          28.2,\n          16.5\n        ],\n        \"semantic_type\": \"\",\n        \"description\": \"\"\n      }\n    },\n    {\n      \"column\": \"coarseagg\",\n      \"properties\": {\n        \"dtype\": \"number\",\n        \"std\": 77.75395396672077,\n        \"min\": 801.0,\n        \"max\": 1145.0,\n        \"num_unique_values\": 284,\n        \"samples\": [\n          852.1,\n          913.9,\n          914.0\n        ],\n        \"semantic_type\": \"\",\n        \"description\": \"\"\n      }\n    },\n    {\n      \"column\": \"fineagg\",\n      \"properties\": {\n        \"dtype\": \"number\",\n        \"std\": 80.17598014240437,\n        \"min\": 594.0,\n        \"max\": 992.6,\n        \"num_unique_values\": 302,\n        \"samples\": [\n          710.0,\n          695.4,\n          769.3\n        ],\n        \"semantic_type\": \"\",\n        \"description\": \"\"\n      }\n    },\n    {\n      \"column\": \"age\",\n      \"properties\": {\n        \"dtype\": \"number\",\n        \"std\": 63,\n        \"min\": 1,\n        \"max\": 365,\n        \"num_unique_values\": 14,\n        \"samples\": [\n          91,\n          100,\n          28\n        ],\n        \"semantic_type\": \"\",\n        \"description\": \"\"\n      }\n    },\n    {\n      \"column\": \"strength\",\n      \"properties\": {\n        \"dtype\": \"number\",\n        \"std\": 16.705741961912512,\n        \"min\": 2.33,\n        \"max\": 82.6,\n        \"num_unique_values\": 845,\n        \"samples\": [\n          41.68,\n          39.59,\n          2.33\n        ],\n        \"semantic_type\": \"\",\n        \"description\": \"\"\n      }\n    }\n  ]\n}"
            }
          },
          "metadata": {},
          "execution_count": 17
        }
      ]
    },
    {
      "cell_type": "code",
      "source": [
        "x = data.loc[:,'cement':'age'].values\n",
        "y = data['strength'].values"
      ],
      "metadata": {
        "id": "LLa77_ZHcp2t"
      },
      "execution_count": 12,
      "outputs": []
    },
    {
      "cell_type": "code",
      "source": [
        "xtrain, xtest, ytrain, ytest = tts(x,y,test_size=0.3,shuffle=True,random_state=123)"
      ],
      "metadata": {
        "id": "82DFl-uNKXtz"
      },
      "execution_count": 13,
      "outputs": []
    },
    {
      "cell_type": "code",
      "source": [
        "import warnings\n",
        "warnings.simplefilter(action='ignore', category=FutureWarning)\n",
        "warnings.simplefilter(action='ignore', category=DeprecationWarning)\n",
        "warnings.simplefilter(action='ignore', category=UserWarning)"
      ],
      "metadata": {
        "id": "PF6sawkPW09R"
      },
      "execution_count": 31,
      "outputs": []
    },
    {
      "cell_type": "code",
      "source": [
        "mse_lower_m = []\n",
        "kf = KFold(n_splits=10,shuffle=True,random_state=1234)\n",
        "model_rf = RandomForestRegressor(n_estimators=200,max_depth=7)\n",
        "model_1 = GradBoost(kernel= Gaussian,tau=0.14)\n",
        "model_2 = GradBoost(kernel= Epanechnikov,tau=0.3)\n",
        "\n",
        "for scale in scaler_list:\n",
        "  mse_lwr = []\n",
        "  for idxtrain, idxtest in kf.split(x):\n",
        "    xtrain = x[idxtrain]\n",
        "    ytrain = y[idxtrain].ravel()\n",
        "    ytest = y[idxtest].ravel()\n",
        "    xtest = x[idxtest]\n",
        "    xtrain = scale.fit_transform(xtrain, ytrain)\n",
        "    xtest = scale.transform(xtest)\n",
        "\n",
        "    model_1.fit(xtrain,ytrain)\n",
        "    yhat_train = model_1.predict(xtrain)\n",
        "    residuals_train = ytrain - yhat_train\n",
        "    model_2.fit(xtrain, residuals_train)\n",
        "    residuals_hat = model_2.predict(xtest)\n",
        "    yhat_lw = model_1.predict(xtest) + model_2.predict(xtest)\n",
        "\n",
        "    mse_lwr.append(mse(ytest,yhat_lw))\n",
        "  mse_lower_m.append(np.mean(mse_lwr))\n",
        "\n",
        "\n",
        "print(f'The Cross-validated Mean Squared Error for Locally Weighted Regression is StandardScaler:\\n{mse_lower_m[0]}, \\n MinMax:{mse_lower_m[1]}, \\n Quantile:{mse_lower_m[2]}')"
      ],
      "metadata": {
        "colab": {
          "base_uri": "https://localhost:8080/"
        },
        "id": "zzzdokb-KXoV",
        "outputId": "66289195-c242-47f3-d96f-06942bbb6b60"
      },
      "execution_count": 32,
      "outputs": [
        {
          "output_type": "stream",
          "name": "stdout",
          "text": [
            "The Cross-validated Mean Squared Error for Locally Weighted Regression is StandardScaler:\n",
            "160.46632956977277, \n",
            " MinMax:43.09254217553561, \n",
            " Quantile:20.523452399924093\n"
          ]
        }
      ]
    },
    {
      "cell_type": "code",
      "source": [
        "model_xgboost = xgboost.XGBRFRegressor(n_estimators=200,max_depth=7)"
      ],
      "metadata": {
        "id": "8r9SIqoXYJnt"
      },
      "execution_count": 33,
      "outputs": []
    },
    {
      "cell_type": "code",
      "source": [
        "model_xgboost.fit(xtrain,ytrain)\n",
        "mse(ytest,model_xgboost.predict(xtest))"
      ],
      "metadata": {
        "colab": {
          "base_uri": "https://localhost:8080/"
        },
        "id": "yVOSNzveYLVE",
        "outputId": "60ec5e12-4512-4c8b-8fc8-78e651dd280e"
      },
      "execution_count": 34,
      "outputs": [
        {
          "output_type": "execute_result",
          "data": {
            "text/plain": [
              "27.443587005918328"
            ]
          },
          "metadata": {},
          "execution_count": 34
        }
      ]
    },
    {
      "cell_type": "markdown",
      "source": [
        "Using the Quantile scaler, my model has a lower MSE compared to XGBoost.\n",
        "\n",
        "My MSE = 20.523452399924093\n",
        "XGBoost = 27.443587005918328"
      ],
      "metadata": {
        "id": "VDzZVhKdYQxi"
      }
    },
    {
      "cell_type": "markdown",
      "source": [
        "#2)\n",
        "### Based on the Usearch library, create your own class that computes the k_Nearest Neighbors for Regression."
      ],
      "metadata": {
        "id": "egHGntnubM9Y"
      }
    },
    {
      "cell_type": "code",
      "source": [
        "!pip install usearch"
      ],
      "metadata": {
        "id": "kV5y3doqbURx",
        "colab": {
          "base_uri": "https://localhost:8080/"
        },
        "outputId": "b2fc7ecb-7863-46ac-a258-84f085a59fd0"
      },
      "execution_count": 35,
      "outputs": [
        {
          "output_type": "stream",
          "name": "stdout",
          "text": [
            "Collecting usearch\n",
            "  Downloading usearch-2.9.1-cp310-cp310-manylinux_2_28_x86_64.whl (2.3 MB)\n",
            "\u001b[2K     \u001b[90m━━━━━━━━━━━━━━━━━━━━━━━━━━━━━━━━━━━━━━━━\u001b[0m \u001b[32m2.3/2.3 MB\u001b[0m \u001b[31m10.2 MB/s\u001b[0m eta \u001b[36m0:00:00\u001b[0m\n",
            "\u001b[?25hRequirement already satisfied: numpy in /usr/local/lib/python3.10/dist-packages (from usearch) (1.25.2)\n",
            "Requirement already satisfied: tqdm in /usr/local/lib/python3.10/dist-packages (from usearch) (4.66.2)\n",
            "Installing collected packages: usearch\n",
            "Successfully installed usearch-2.9.1\n"
          ]
        }
      ]
    },
    {
      "cell_type": "code",
      "source": [
        "import numpy as np\n",
        "from scipy.spatial.distance import cdist\n",
        "from usearch.index import search, MetricKind, Matches, BatchMatches, Index"
      ],
      "metadata": {
        "id": "M1wgtt3rZPlF"
      },
      "execution_count": 46,
      "outputs": []
    },
    {
      "cell_type": "code",
      "source": [
        "vectors = np.random.rand(10000, 1024).astype(np.float32)\n",
        "vector = np.random.rand(1024).astype(np.float32)"
      ],
      "metadata": {
        "id": "SkdVWl6PZVa-"
      },
      "execution_count": 38,
      "outputs": []
    },
    {
      "cell_type": "code",
      "source": [
        "k = 5"
      ],
      "metadata": {
        "id": "Fs2pw3sZkNIX"
      },
      "execution_count": 48,
      "outputs": []
    },
    {
      "cell_type": "code",
      "source": [
        "class knn_regression_usearch():\n",
        "  def __init__(self, k):\n",
        "    self.k = k\n",
        "\n",
        "  def fit(self, x, y):\n",
        "    self.xtrain_ = x\n",
        "    self.ytrain_ = y\n",
        "\n",
        "\n",
        "  def ind_vectors(self, vectors):\n",
        "    many_in_many: BatchMatches = search(vectors, vectors, vectors.shape[0], MetricKind.L2sq, exact=True)\n",
        "    return many_in_many.to_list()\n",
        "\n",
        "  def predict(self, x):\n",
        "    preds_list = []\n",
        "    for xi in x:\n",
        "      x_scale = scaler_s.fit_transform.transform([xi])\n",
        "      one_in_many = search(self.X_train, x_scale, self.k, MetricKind.L2sq, exact=True)\n",
        "      distances = one_in_many.to_list()\n",
        "\n",
        "      idx_nearest = np.array(distances)[:, 0].astype('int64')\n",
        "      nearest_distances = np.array(distances)[:,1].astype(float)\n",
        "\n",
        "      weights = 1 / nearest_distances\n",
        "      sum_weight = np.sum(weights)\n",
        "\n",
        "      if sum_weight != 0:\n",
        "        pred = np.sum(weights * self.y_train[idx_nearest]) / sum_weight\n",
        "      preds_list.append(pred)\n",
        "    return preds_list"
      ],
      "metadata": {
        "id": "ebupKRrFZ8_e"
      },
      "execution_count": 50,
      "outputs": []
    }
  ]
}
