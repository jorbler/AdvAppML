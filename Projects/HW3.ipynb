{
  "nbformat": 4,
  "nbformat_minor": 0,
  "metadata": {
    "colab": {
      "provenance": []
    },
    "kernelspec": {
      "name": "python3",
      "display_name": "Python 3"
    },
    "language_info": {
      "name": "python"
    }
  },
  "cells": [
    {
      "cell_type": "markdown",
      "source": [
        "### Setup"
      ],
      "metadata": {
        "id": "q5D-R5fv9p73"
      }
    },
    {
      "cell_type": "code",
      "source": [
        "import torch\n",
        "import torch.nn as nn\n",
        "#from ignite.contrib.metrics.regression import R2Score\n",
        "import torch.optim as optim\n",
        "%config InlineBackend.figure_format = 'retina'\n",
        "import numpy as np\n",
        "import pandas as pd\n",
        "from sklearn import linear_model\n",
        "from sklearn.datasets import make_spd_matrix\n",
        "from scipy.optimize import minimize\n",
        "from scipy.linalg import toeplitz\n",
        "from sklearn.model_selection import train_test_split as tts\n",
        "from sklearn.preprocessing import StandardScaler, QuantileTransformer, MinMaxScaler\n",
        "from sklearn.metrics import mean_absolute_error as mae, mean_squared_error as mse, r2_score as R2"
      ],
      "metadata": {
        "id": "W6UfBb8e9pq8"
      },
      "execution_count": 2,
      "outputs": []
    },
    {
      "cell_type": "code",
      "source": [
        "device = torch.device(\"cpu\")\n",
        "dtype = torch.float64"
      ],
      "metadata": {
        "id": "UdxnxACTDFUi"
      },
      "execution_count": 3,
      "outputs": []
    },
    {
      "cell_type": "markdown",
      "source": [
        "#1)\n",
        "### Create your own PyTorch class that implements the method of SCAD regularization and variable selection (smoothly clipped absolute deviations) for linear models. Your development should be based on the following references:\n",
        "\n",
        "https://andrewcharlesjones.github.io/journal/scad.html\n",
        "\n",
        "https://www.jstor.org/stable/27640214?seq=1"
      ],
      "metadata": {
        "id": "NIKQL17k-ww1"
      }
    },
    {
      "cell_type": "code",
      "source": [
        "# scad penalty from the first link, changing numpy methods to pytorch.\n",
        "def scad_penalty(beta_hat, lambda_val, a_val):\n",
        "  is_linear = (torch.abs(beta_hat) <= lambda_val)\n",
        "  is_quadratic = torch.logical_and(lambda_val < torch.abs(beta_hat), torch.abs(beta_hat) <= a_val * lambda_val)\n",
        "  is_constant = (a_val * lambda_val) < torch.abs(beta_hat)\n",
        "\n",
        "  linear_part = lambda_val * torch.abs(beta_hat) * is_linear\n",
        "  quadratic_part = (2 * a_val * lambda_val * torch.abs(beta_hat) - beta_hat**2 - lambda_val**2) / (2 * (a_val - 1)) * is_quadratic\n",
        "  constant_part = (lambda_val**2 * (a_val + 1)) / 2 * is_constant\n",
        "  return linear_part + quadratic_part + constant_part"
      ],
      "metadata": {
        "id": "8qaChj2d9tJJ"
      },
      "execution_count": 104,
      "outputs": []
    },
    {
      "cell_type": "code",
      "source": [
        "class SCADReg(nn.Module):\n",
        "\n",
        "\n",
        "    def __init__(self, input_size, lamb = .1, a = 3.7):\n",
        "        super(SCADReg, self).__init__()\n",
        "        self.input_size = input_size\n",
        "        self.a = a\n",
        "        self.lamb = lamb\n",
        "\n",
        "        # Define the linear regression layer\n",
        "        self.linear = nn.Linear(input_size, 1).double()\n",
        "\n",
        "\n",
        "    def forward(self, x):\n",
        "        return self.linear(x)\n",
        "\n",
        "\n",
        "    def scad_penalty(beta_hat, lambda_val, a_val):\n",
        "      is_linear = (torch.abs(beta_hat) <= lambda_val)\n",
        "      is_quadratic = torch.logical_and(lambda_val < torch.abs(beta_hat), torch.abs(beta_hat) <= a_val * lambda_val)\n",
        "      is_constant = (a_val * lambda_val) < np.abs(beta_hat)\n",
        "\n",
        "      linear_part = lambda_val * torch.abs(beta_hat) * is_linear\n",
        "      quadratic_part = (2 * a_val * lambda_val * np.abs(beta_hat) - beta_hat**2 - lambda_val**2) / (2 * (a_val - 1)) * is_quadratic\n",
        "      constant_part = (lambda_val**2 * (a_val + 1)) / 2 * is_constant\n",
        "      return linear_part + quadratic_part + constant_part\n",
        "\n",
        "\n",
        "    def loss(self, y_pred, y_true):\n",
        "        mse_loss = nn.MSELoss()(y_pred, y_true)\n",
        "\n",
        "        beta_hat = self.linear.weight\n",
        "        scad_penalty_val = torch.mean(scad_penalty(beta_hat, self.lamb, self.a))\n",
        "\n",
        "        loss = 0.5*mse_loss + scad_penalty_val\n",
        "        return loss, scad_penalty_val\n",
        "\n",
        "\n",
        "    def fit(self, X, y, num_epochs=10000, learning_rate=0.01):\n",
        "        optimizer = optim.Adam(self.parameters(), lr=learning_rate)\n",
        "\n",
        "        for epoch in range(num_epochs):\n",
        "            self.train()\n",
        "            optimizer.zero_grad()\n",
        "            y_pred = self(X)\n",
        "            loss, scad_penalty_val = self.loss(y_pred, y.reshape(-1,1))\n",
        "            loss.backward()\n",
        "            optimizer.step()\n",
        "\n",
        "            if (epoch + 1) % 1000 == 0:\n",
        "                print(f\"Epoch [{epoch + 1}/{num_epochs}], Loss: {loss.item()}\")\n",
        "\n",
        "\n",
        "    def predict(self, X):\n",
        "      self.eval()\n",
        "      with torch.no_grad():\n",
        "          y_pred = self(X)\n",
        "      return y_pred\n",
        "\n",
        "\n",
        "    def get_coefficients(self):\n",
        "        return self.linear.weight\n",
        "\n"
      ],
      "metadata": {
        "id": "CwYgeT2mDLC-"
      },
      "execution_count": 123,
      "outputs": []
    },
    {
      "cell_type": "markdown",
      "source": [
        "###Test your method on a real data set, and determine a variable selection based on features importance according to SCAD."
      ],
      "metadata": {
        "id": "EQJFoiyz_HLa"
      }
    },
    {
      "cell_type": "code",
      "source": [
        "# testing on the cement dataset\n",
        "cement = pd.read_csv('/content/drive/MyDrive/W&M/F23/DATA301_Data/concrete.csv')\n",
        "cement.head(3)"
      ],
      "metadata": {
        "id": "i-3-qEZK_GcR",
        "colab": {
          "base_uri": "https://localhost:8080/",
          "height": 143
        },
        "outputId": "12855ba7-e464-4df6-df6c-7481e0a5dc67"
      },
      "execution_count": 106,
      "outputs": [
        {
          "output_type": "execute_result",
          "data": {
            "text/plain": [
              "   cement   slag  ash  water  superplastic  coarseagg  fineagg  age  strength\n",
              "0   540.0    0.0  0.0  162.0           2.5     1040.0    676.0   28     79.99\n",
              "1   540.0    0.0  0.0  162.0           2.5     1055.0    676.0   28     61.89\n",
              "2   332.5  142.5  0.0  228.0           0.0      932.0    594.0  270     40.27"
            ],
            "text/html": [
              "\n",
              "  <div id=\"df-2e8fa727-7f03-4387-8a2c-6f8503e6cb38\" class=\"colab-df-container\">\n",
              "    <div>\n",
              "<style scoped>\n",
              "    .dataframe tbody tr th:only-of-type {\n",
              "        vertical-align: middle;\n",
              "    }\n",
              "\n",
              "    .dataframe tbody tr th {\n",
              "        vertical-align: top;\n",
              "    }\n",
              "\n",
              "    .dataframe thead th {\n",
              "        text-align: right;\n",
              "    }\n",
              "</style>\n",
              "<table border=\"1\" class=\"dataframe\">\n",
              "  <thead>\n",
              "    <tr style=\"text-align: right;\">\n",
              "      <th></th>\n",
              "      <th>cement</th>\n",
              "      <th>slag</th>\n",
              "      <th>ash</th>\n",
              "      <th>water</th>\n",
              "      <th>superplastic</th>\n",
              "      <th>coarseagg</th>\n",
              "      <th>fineagg</th>\n",
              "      <th>age</th>\n",
              "      <th>strength</th>\n",
              "    </tr>\n",
              "  </thead>\n",
              "  <tbody>\n",
              "    <tr>\n",
              "      <th>0</th>\n",
              "      <td>540.0</td>\n",
              "      <td>0.0</td>\n",
              "      <td>0.0</td>\n",
              "      <td>162.0</td>\n",
              "      <td>2.5</td>\n",
              "      <td>1040.0</td>\n",
              "      <td>676.0</td>\n",
              "      <td>28</td>\n",
              "      <td>79.99</td>\n",
              "    </tr>\n",
              "    <tr>\n",
              "      <th>1</th>\n",
              "      <td>540.0</td>\n",
              "      <td>0.0</td>\n",
              "      <td>0.0</td>\n",
              "      <td>162.0</td>\n",
              "      <td>2.5</td>\n",
              "      <td>1055.0</td>\n",
              "      <td>676.0</td>\n",
              "      <td>28</td>\n",
              "      <td>61.89</td>\n",
              "    </tr>\n",
              "    <tr>\n",
              "      <th>2</th>\n",
              "      <td>332.5</td>\n",
              "      <td>142.5</td>\n",
              "      <td>0.0</td>\n",
              "      <td>228.0</td>\n",
              "      <td>0.0</td>\n",
              "      <td>932.0</td>\n",
              "      <td>594.0</td>\n",
              "      <td>270</td>\n",
              "      <td>40.27</td>\n",
              "    </tr>\n",
              "  </tbody>\n",
              "</table>\n",
              "</div>\n",
              "    <div class=\"colab-df-buttons\">\n",
              "\n",
              "  <div class=\"colab-df-container\">\n",
              "    <button class=\"colab-df-convert\" onclick=\"convertToInteractive('df-2e8fa727-7f03-4387-8a2c-6f8503e6cb38')\"\n",
              "            title=\"Convert this dataframe to an interactive table.\"\n",
              "            style=\"display:none;\">\n",
              "\n",
              "  <svg xmlns=\"http://www.w3.org/2000/svg\" height=\"24px\" viewBox=\"0 -960 960 960\">\n",
              "    <path d=\"M120-120v-720h720v720H120Zm60-500h600v-160H180v160Zm220 220h160v-160H400v160Zm0 220h160v-160H400v160ZM180-400h160v-160H180v160Zm440 0h160v-160H620v160ZM180-180h160v-160H180v160Zm440 0h160v-160H620v160Z\"/>\n",
              "  </svg>\n",
              "    </button>\n",
              "\n",
              "  <style>\n",
              "    .colab-df-container {\n",
              "      display:flex;\n",
              "      gap: 12px;\n",
              "    }\n",
              "\n",
              "    .colab-df-convert {\n",
              "      background-color: #E8F0FE;\n",
              "      border: none;\n",
              "      border-radius: 50%;\n",
              "      cursor: pointer;\n",
              "      display: none;\n",
              "      fill: #1967D2;\n",
              "      height: 32px;\n",
              "      padding: 0 0 0 0;\n",
              "      width: 32px;\n",
              "    }\n",
              "\n",
              "    .colab-df-convert:hover {\n",
              "      background-color: #E2EBFA;\n",
              "      box-shadow: 0px 1px 2px rgba(60, 64, 67, 0.3), 0px 1px 3px 1px rgba(60, 64, 67, 0.15);\n",
              "      fill: #174EA6;\n",
              "    }\n",
              "\n",
              "    .colab-df-buttons div {\n",
              "      margin-bottom: 4px;\n",
              "    }\n",
              "\n",
              "    [theme=dark] .colab-df-convert {\n",
              "      background-color: #3B4455;\n",
              "      fill: #D2E3FC;\n",
              "    }\n",
              "\n",
              "    [theme=dark] .colab-df-convert:hover {\n",
              "      background-color: #434B5C;\n",
              "      box-shadow: 0px 1px 3px 1px rgba(0, 0, 0, 0.15);\n",
              "      filter: drop-shadow(0px 1px 2px rgba(0, 0, 0, 0.3));\n",
              "      fill: #FFFFFF;\n",
              "    }\n",
              "  </style>\n",
              "\n",
              "    <script>\n",
              "      const buttonEl =\n",
              "        document.querySelector('#df-2e8fa727-7f03-4387-8a2c-6f8503e6cb38 button.colab-df-convert');\n",
              "      buttonEl.style.display =\n",
              "        google.colab.kernel.accessAllowed ? 'block' : 'none';\n",
              "\n",
              "      async function convertToInteractive(key) {\n",
              "        const element = document.querySelector('#df-2e8fa727-7f03-4387-8a2c-6f8503e6cb38');\n",
              "        const dataTable =\n",
              "          await google.colab.kernel.invokeFunction('convertToInteractive',\n",
              "                                                    [key], {});\n",
              "        if (!dataTable) return;\n",
              "\n",
              "        const docLinkHtml = 'Like what you see? Visit the ' +\n",
              "          '<a target=\"_blank\" href=https://colab.research.google.com/notebooks/data_table.ipynb>data table notebook</a>'\n",
              "          + ' to learn more about interactive tables.';\n",
              "        element.innerHTML = '';\n",
              "        dataTable['output_type'] = 'display_data';\n",
              "        await google.colab.output.renderOutput(dataTable, element);\n",
              "        const docLink = document.createElement('div');\n",
              "        docLink.innerHTML = docLinkHtml;\n",
              "        element.appendChild(docLink);\n",
              "      }\n",
              "    </script>\n",
              "  </div>\n",
              "\n",
              "\n",
              "<div id=\"df-7612f4ba-58dc-432b-801f-daedb5caa85a\">\n",
              "  <button class=\"colab-df-quickchart\" onclick=\"quickchart('df-7612f4ba-58dc-432b-801f-daedb5caa85a')\"\n",
              "            title=\"Suggest charts\"\n",
              "            style=\"display:none;\">\n",
              "\n",
              "<svg xmlns=\"http://www.w3.org/2000/svg\" height=\"24px\"viewBox=\"0 0 24 24\"\n",
              "     width=\"24px\">\n",
              "    <g>\n",
              "        <path d=\"M19 3H5c-1.1 0-2 .9-2 2v14c0 1.1.9 2 2 2h14c1.1 0 2-.9 2-2V5c0-1.1-.9-2-2-2zM9 17H7v-7h2v7zm4 0h-2V7h2v10zm4 0h-2v-4h2v4z\"/>\n",
              "    </g>\n",
              "</svg>\n",
              "  </button>\n",
              "\n",
              "<style>\n",
              "  .colab-df-quickchart {\n",
              "      --bg-color: #E8F0FE;\n",
              "      --fill-color: #1967D2;\n",
              "      --hover-bg-color: #E2EBFA;\n",
              "      --hover-fill-color: #174EA6;\n",
              "      --disabled-fill-color: #AAA;\n",
              "      --disabled-bg-color: #DDD;\n",
              "  }\n",
              "\n",
              "  [theme=dark] .colab-df-quickchart {\n",
              "      --bg-color: #3B4455;\n",
              "      --fill-color: #D2E3FC;\n",
              "      --hover-bg-color: #434B5C;\n",
              "      --hover-fill-color: #FFFFFF;\n",
              "      --disabled-bg-color: #3B4455;\n",
              "      --disabled-fill-color: #666;\n",
              "  }\n",
              "\n",
              "  .colab-df-quickchart {\n",
              "    background-color: var(--bg-color);\n",
              "    border: none;\n",
              "    border-radius: 50%;\n",
              "    cursor: pointer;\n",
              "    display: none;\n",
              "    fill: var(--fill-color);\n",
              "    height: 32px;\n",
              "    padding: 0;\n",
              "    width: 32px;\n",
              "  }\n",
              "\n",
              "  .colab-df-quickchart:hover {\n",
              "    background-color: var(--hover-bg-color);\n",
              "    box-shadow: 0 1px 2px rgba(60, 64, 67, 0.3), 0 1px 3px 1px rgba(60, 64, 67, 0.15);\n",
              "    fill: var(--button-hover-fill-color);\n",
              "  }\n",
              "\n",
              "  .colab-df-quickchart-complete:disabled,\n",
              "  .colab-df-quickchart-complete:disabled:hover {\n",
              "    background-color: var(--disabled-bg-color);\n",
              "    fill: var(--disabled-fill-color);\n",
              "    box-shadow: none;\n",
              "  }\n",
              "\n",
              "  .colab-df-spinner {\n",
              "    border: 2px solid var(--fill-color);\n",
              "    border-color: transparent;\n",
              "    border-bottom-color: var(--fill-color);\n",
              "    animation:\n",
              "      spin 1s steps(1) infinite;\n",
              "  }\n",
              "\n",
              "  @keyframes spin {\n",
              "    0% {\n",
              "      border-color: transparent;\n",
              "      border-bottom-color: var(--fill-color);\n",
              "      border-left-color: var(--fill-color);\n",
              "    }\n",
              "    20% {\n",
              "      border-color: transparent;\n",
              "      border-left-color: var(--fill-color);\n",
              "      border-top-color: var(--fill-color);\n",
              "    }\n",
              "    30% {\n",
              "      border-color: transparent;\n",
              "      border-left-color: var(--fill-color);\n",
              "      border-top-color: var(--fill-color);\n",
              "      border-right-color: var(--fill-color);\n",
              "    }\n",
              "    40% {\n",
              "      border-color: transparent;\n",
              "      border-right-color: var(--fill-color);\n",
              "      border-top-color: var(--fill-color);\n",
              "    }\n",
              "    60% {\n",
              "      border-color: transparent;\n",
              "      border-right-color: var(--fill-color);\n",
              "    }\n",
              "    80% {\n",
              "      border-color: transparent;\n",
              "      border-right-color: var(--fill-color);\n",
              "      border-bottom-color: var(--fill-color);\n",
              "    }\n",
              "    90% {\n",
              "      border-color: transparent;\n",
              "      border-bottom-color: var(--fill-color);\n",
              "    }\n",
              "  }\n",
              "</style>\n",
              "\n",
              "  <script>\n",
              "    async function quickchart(key) {\n",
              "      const quickchartButtonEl =\n",
              "        document.querySelector('#' + key + ' button');\n",
              "      quickchartButtonEl.disabled = true;  // To prevent multiple clicks.\n",
              "      quickchartButtonEl.classList.add('colab-df-spinner');\n",
              "      try {\n",
              "        const charts = await google.colab.kernel.invokeFunction(\n",
              "            'suggestCharts', [key], {});\n",
              "      } catch (error) {\n",
              "        console.error('Error during call to suggestCharts:', error);\n",
              "      }\n",
              "      quickchartButtonEl.classList.remove('colab-df-spinner');\n",
              "      quickchartButtonEl.classList.add('colab-df-quickchart-complete');\n",
              "    }\n",
              "    (() => {\n",
              "      let quickchartButtonEl =\n",
              "        document.querySelector('#df-7612f4ba-58dc-432b-801f-daedb5caa85a button');\n",
              "      quickchartButtonEl.style.display =\n",
              "        google.colab.kernel.accessAllowed ? 'block' : 'none';\n",
              "    })();\n",
              "  </script>\n",
              "</div>\n",
              "    </div>\n",
              "  </div>\n"
            ],
            "application/vnd.google.colaboratory.intrinsic+json": {
              "type": "dataframe",
              "variable_name": "cement",
              "summary": "{\n  \"name\": \"cement\",\n  \"rows\": 1030,\n  \"fields\": [\n    {\n      \"column\": \"cement\",\n      \"properties\": {\n        \"dtype\": \"number\",\n        \"std\": 104.50636449481532,\n        \"min\": 102.0,\n        \"max\": 540.0,\n        \"num_unique_values\": 278,\n        \"samples\": [\n          337.9,\n          290.2,\n          262.0\n        ],\n        \"semantic_type\": \"\",\n        \"description\": \"\"\n      }\n    },\n    {\n      \"column\": \"slag\",\n      \"properties\": {\n        \"dtype\": \"number\",\n        \"std\": 86.27934174810584,\n        \"min\": 0.0,\n        \"max\": 359.4,\n        \"num_unique_values\": 185,\n        \"samples\": [\n          94.7,\n          119.0,\n          136.3\n        ],\n        \"semantic_type\": \"\",\n        \"description\": \"\"\n      }\n    },\n    {\n      \"column\": \"ash\",\n      \"properties\": {\n        \"dtype\": \"number\",\n        \"std\": 63.99700415268765,\n        \"min\": 0.0,\n        \"max\": 200.1,\n        \"num_unique_values\": 156,\n        \"samples\": [\n          98.0,\n          142.0,\n          195.0\n        ],\n        \"semantic_type\": \"\",\n        \"description\": \"\"\n      }\n    },\n    {\n      \"column\": \"water\",\n      \"properties\": {\n        \"dtype\": \"number\",\n        \"std\": 21.35421856503247,\n        \"min\": 121.8,\n        \"max\": 247.0,\n        \"num_unique_values\": 195,\n        \"samples\": [\n          195.4,\n          183.8,\n          127.3\n        ],\n        \"semantic_type\": \"\",\n        \"description\": \"\"\n      }\n    },\n    {\n      \"column\": \"superplastic\",\n      \"properties\": {\n        \"dtype\": \"number\",\n        \"std\": 5.97384139248552,\n        \"min\": 0.0,\n        \"max\": 32.2,\n        \"num_unique_values\": 111,\n        \"samples\": [\n          15.0,\n          28.2,\n          16.5\n        ],\n        \"semantic_type\": \"\",\n        \"description\": \"\"\n      }\n    },\n    {\n      \"column\": \"coarseagg\",\n      \"properties\": {\n        \"dtype\": \"number\",\n        \"std\": 77.75395396672077,\n        \"min\": 801.0,\n        \"max\": 1145.0,\n        \"num_unique_values\": 284,\n        \"samples\": [\n          852.1,\n          913.9,\n          914.0\n        ],\n        \"semantic_type\": \"\",\n        \"description\": \"\"\n      }\n    },\n    {\n      \"column\": \"fineagg\",\n      \"properties\": {\n        \"dtype\": \"number\",\n        \"std\": 80.17598014240437,\n        \"min\": 594.0,\n        \"max\": 992.6,\n        \"num_unique_values\": 302,\n        \"samples\": [\n          710.0,\n          695.4,\n          769.3\n        ],\n        \"semantic_type\": \"\",\n        \"description\": \"\"\n      }\n    },\n    {\n      \"column\": \"age\",\n      \"properties\": {\n        \"dtype\": \"number\",\n        \"std\": 63,\n        \"min\": 1,\n        \"max\": 365,\n        \"num_unique_values\": 14,\n        \"samples\": [\n          91,\n          100,\n          28\n        ],\n        \"semantic_type\": \"\",\n        \"description\": \"\"\n      }\n    },\n    {\n      \"column\": \"strength\",\n      \"properties\": {\n        \"dtype\": \"number\",\n        \"std\": 16.705741961912512,\n        \"min\": 2.33,\n        \"max\": 82.6,\n        \"num_unique_values\": 845,\n        \"samples\": [\n          41.68,\n          39.59,\n          2.33\n        ],\n        \"semantic_type\": \"\",\n        \"description\": \"\"\n      }\n    }\n  ]\n}"
            }
          },
          "metadata": {},
          "execution_count": 106
        }
      ]
    },
    {
      "cell_type": "code",
      "source": [
        "x = cement.loc[:,'cement':'age'].values\n",
        "y = cement['strength'].values"
      ],
      "metadata": {
        "id": "mJbfqLSEDnTx"
      },
      "execution_count": 107,
      "outputs": []
    },
    {
      "cell_type": "code",
      "source": [
        "xtrain, xtest, ytrain, ytest = tts(x,y,test_size=0.2,shuffle=True,random_state=123)"
      ],
      "metadata": {
        "id": "oNY-_IKHEBje"
      },
      "execution_count": 108,
      "outputs": []
    },
    {
      "cell_type": "code",
      "source": [
        "# I am using standard scaler because SCAD assumes that all values are centered around zero\n",
        "# which is how the Standard Scaler scales the data.\n",
        "scale = StandardScaler()"
      ],
      "metadata": {
        "id": "MWRvjX5FFP6V"
      },
      "execution_count": 109,
      "outputs": []
    },
    {
      "cell_type": "code",
      "source": [
        "xtrain_scale = torch.tensor(scale.fit_transform(xtrain)).type(torch.DoubleTensor)\n",
        "ytrain = torch.tensor(ytrain).type(torch.DoubleTensor)"
      ],
      "metadata": {
        "id": "ojSnVx2iFVVe"
      },
      "execution_count": 110,
      "outputs": []
    },
    {
      "cell_type": "code",
      "source": [
        "model = SCADReg(a = 3.7, lamb = .7, input_size = 8)"
      ],
      "metadata": {
        "id": "c9gUQENqHAFS"
      },
      "execution_count": 111,
      "outputs": []
    },
    {
      "cell_type": "code",
      "source": [
        "model.fit(xtrain_scale, ytrain)"
      ],
      "metadata": {
        "colab": {
          "base_uri": "https://localhost:8080/"
        },
        "id": "FvIVqT0FeqzW",
        "outputId": "e85dd71a-c4e4-47be-c0fe-c4af99784c9c"
      },
      "execution_count": 112,
      "outputs": [
        {
          "output_type": "stream",
          "name": "stdout",
          "text": [
            "Epoch [1000/10000], Loss: 404.26740379002047\n",
            "Epoch [2000/10000], Loss: 221.29938890299607\n",
            "Epoch [3000/10000], Loss: 118.55526164592177\n",
            "Epoch [4000/10000], Loss: 71.90273566424479\n",
            "Epoch [5000/10000], Loss: 57.40822812910194\n",
            "Epoch [6000/10000], Loss: 55.22370978268554\n",
            "Epoch [7000/10000], Loss: 55.131841740552275\n",
            "Epoch [8000/10000], Loss: 55.13138941162357\n",
            "Epoch [9000/10000], Loss: 55.13138935134478\n",
            "Epoch [10000/10000], Loss: 55.13138935134475\n"
          ]
        }
      ]
    },
    {
      "cell_type": "code",
      "source": [
        "model.get_coefficients()"
      ],
      "metadata": {
        "colab": {
          "base_uri": "https://localhost:8080/"
        },
        "id": "mH7n9ER4kToT",
        "outputId": "43a0cf0b-8f40-4c73-9d38-ba30d628f55f"
      },
      "execution_count": 113,
      "outputs": [
        {
          "output_type": "execute_result",
          "data": {
            "text/plain": [
              "Parameter containing:\n",
              "tensor([[11.7108,  8.1723,  4.9558, -3.5771,  1.8533,  0.7980,  0.8426,  7.1944]],\n",
              "       dtype=torch.float64, requires_grad=True)"
            ]
          },
          "metadata": {},
          "execution_count": 113
        }
      ]
    },
    {
      "cell_type": "code",
      "source": [
        "xtest_scale = torch.tensor(scale.fit_transform(xtest))\n",
        "ytest = torch.tensor(ytest)"
      ],
      "metadata": {
        "id": "DmAxFshnjCaV"
      },
      "execution_count": 114,
      "outputs": []
    },
    {
      "cell_type": "code",
      "source": [
        "mse(model.predict(xtest_scale), ytest)"
      ],
      "metadata": {
        "colab": {
          "base_uri": "https://localhost:8080/"
        },
        "id": "f0Cyy-h8jCU-",
        "outputId": "b14e0a99-d96e-4ec2-bfdf-560ec14d4034"
      },
      "execution_count": 115,
      "outputs": [
        {
          "output_type": "execute_result",
          "data": {
            "text/plain": [
              "102.4760490974356"
            ]
          },
          "metadata": {},
          "execution_count": 115
        }
      ]
    },
    {
      "cell_type": "markdown",
      "source": [
        "Based on the coefficients produced by the SCAD model, variables that should be included are cement, slag, ash, water, superplastic,\tand age (variables 1, 2, 3, 4, 5, and 8). The SCAD model made the coefficients for coarseagg and fineagg (variables 6 and 7) close to zero (<1), indicating that these variables have little to no impact on predicting the strength of cement, and are not useful in the model."
      ],
      "metadata": {
        "id": "bJT7eIk1nTFV"
      }
    },
    {
      "cell_type": "markdown",
      "source": [
        "---\n",
        "#2)\n",
        "\n",
        "### Based on the simulation design explained in class, generate 500 data sets where the input features have a strong correlation structure (you may consider a 0.9).\n",
        "\n"
      ],
      "metadata": {
        "id": "jDT5QAWL_JpP"
      }
    },
    {
      "cell_type": "code",
      "source": [
        "def make_correlated_features(num_samples,p,rho):\n",
        "  vcor = []\n",
        "  for i in range(p):\n",
        "    vcor.append(rho**i)\n",
        "  r = toeplitz(vcor)\n",
        "  mu = np.repeat(0,p)\n",
        "  x = np.random.multivariate_normal(mu, r, size=num_samples)\n",
        "  return x"
      ],
      "metadata": {
        "id": "yOtY13pQ_GWS"
      },
      "execution_count": 153,
      "outputs": []
    },
    {
      "cell_type": "code",
      "source": [
        "rho = 0.9\n",
        "p = 20\n",
        "n = 500\n",
        "vcor = []\n",
        "for i in range(p):\n",
        "  vcor.append(rho**i)"
      ],
      "metadata": {
        "id": "-9Spfwom_V54"
      },
      "execution_count": 154,
      "outputs": []
    },
    {
      "cell_type": "code",
      "source": [
        "x = make_correlated_features(n, p, rho)"
      ],
      "metadata": {
        "id": "LFXrsQZhpJPl"
      },
      "execution_count": 155,
      "outputs": []
    },
    {
      "cell_type": "markdown",
      "source": [
        "###Apply ElasticNet, SqrtLasso and SCAD to check which method produces the best approximation of an ideal solution, such as a \"betastar\" you design with a sparsity pattern."
      ],
      "metadata": {
        "id": "fl4Tszxy_WGX"
      }
    },
    {
      "cell_type": "markdown",
      "source": [
        "### Elastic Net"
      ],
      "metadata": {
        "id": "y8ZTrGc2psyV"
      }
    },
    {
      "cell_type": "code",
      "source": [
        "class ElasticNet(nn.Module):\n",
        "    def __init__(self, input_size, alpha=1.0, l1_ratio=0.5):\n",
        "        \"\"\"\n",
        "        Initialize the ElasticNet regression model.\n",
        "\n",
        "        Args:\n",
        "            input_size (int): Number of input features.\n",
        "            alpha (float): Regularization strength. Higher values of alpha\n",
        "                emphasize L1 regularization, while lower values emphasize L2 regularization.\n",
        "            l1_ratio (float): The ratio of L1 regularization to the total\n",
        "                regularization (L1 + L2). It should be between 0 and 1.\n",
        "\n",
        "        \"\"\"\n",
        "        super(ElasticNet, self).__init__()\n",
        "        self.input_size = input_size\n",
        "        self.alpha = alpha\n",
        "        self.l1_ratio = l1_ratio\n",
        "\n",
        "        # Define the linear regression layer\n",
        "        self.linear = nn.Linear(input_size, 1, device = device, dtype = dtype)\n",
        "\n",
        "    def forward(self, x):\n",
        "        \"\"\"\n",
        "        Forward pass of the ElasticNet model.\n",
        "\n",
        "        Args:\n",
        "            x (Tensor): Input data with shape (batch_size, input_size).\n",
        "\n",
        "        Returns:\n",
        "            Tensor: Predicted values with shape (batch_size, 1).\n",
        "\n",
        "        \"\"\"\n",
        "        return self.linear(x)\n",
        "\n",
        "    def loss(self, y_pred, y_true):\n",
        "        \"\"\"\n",
        "        Compute the ElasticNet loss function.\n",
        "\n",
        "        Args:\n",
        "            y_pred (Tensor): Predicted values with shape (batch_size, 1).\n",
        "            y_true (Tensor): True target values with shape (batch_size, 1).\n",
        "\n",
        "        Returns:\n",
        "            Tensor: The ElasticNet loss.\n",
        "\n",
        "        \"\"\"\n",
        "        mse_loss = nn.MSELoss()(y_pred, y_true)\n",
        "        l1_reg = torch.norm(self.linear.weight, p=1)\n",
        "        l2_reg = torch.norm(self.linear.weight, p=2)\n",
        "\n",
        "        loss = mse_loss + self.alpha * (\n",
        "            self.l1_ratio * l1_reg + (1 - self.l1_ratio) * l2_reg\n",
        "        )\n",
        "\n",
        "        return loss\n",
        "\n",
        "    def fit(self, X, y, num_epochs=10000, learning_rate=0.01):\n",
        "        \"\"\"\n",
        "        Fit the ElasticNet model to the training data.\n",
        "\n",
        "        Args:\n",
        "            X (Tensor): Input data with shape (num_samples, input_size).\n",
        "            y (Tensor): Target values with shape (num_samples, 1).\n",
        "            num_epochs (int): Number of training epochs.\n",
        "            learning_rate (float): Learning rate for optimization.\n",
        "\n",
        "        \"\"\"\n",
        "        optimizer = optim.SGD(self.parameters(), lr=learning_rate)\n",
        "\n",
        "        for epoch in range(num_epochs):\n",
        "            self.train()\n",
        "            optimizer.zero_grad()\n",
        "            y_pred = self(X)\n",
        "            loss = self.loss(y_pred, y)\n",
        "            loss.backward()\n",
        "            optimizer.step()\n",
        "\n",
        "            if (epoch + 1) % 1000 == 0:\n",
        "                print(f\"Epoch [{epoch + 1}/{num_epochs}], Loss: {loss.item()}\")\n",
        "\n",
        "    def predict(self, X):\n",
        "        \"\"\"\n",
        "        Predict target values for input data.\n",
        "\n",
        "        Args:\n",
        "            X (Tensor): Input data with shape (num_samples, input_size).\n",
        "\n",
        "        Returns:\n",
        "            Tensor: Predicted values with shape (num_samples, 1).\n",
        "\n",
        "        \"\"\"\n",
        "        self.eval()\n",
        "        with torch.no_grad():\n",
        "            y_pred = self(X)\n",
        "        return y_pred\n",
        "    def get_coefficients(self):\n",
        "        \"\"\"\n",
        "        Get the coefficients (weights) of the linear regression layer.\n",
        "\n",
        "        Returns:\n",
        "            Tensor: Coefficients with shape (output_size, input_size).\n",
        "\n",
        "        \"\"\"\n",
        "        return self.linear.weight\n"
      ],
      "metadata": {
        "id": "xifPFd0O_Z6D"
      },
      "execution_count": 140,
      "outputs": []
    },
    {
      "cell_type": "markdown",
      "source": [
        "### Sqrt Lasso"
      ],
      "metadata": {
        "id": "BOzN90AtqyRy"
      }
    },
    {
      "cell_type": "code",
      "source": [
        "class sqrtLasso(nn.Module):\n",
        "    def __init__(self, input_size, alpha=0.1):\n",
        "        \"\"\"\n",
        "        Initialize the  regression model.\n",
        "\n",
        "\n",
        "        \"\"\"\n",
        "        super(sqrtLasso, self).__init__()\n",
        "        self.input_size = input_size\n",
        "        self.alpha = alpha\n",
        "\n",
        "\n",
        "        # Define the linear regression layer\n",
        "        self.linear = nn.Linear(input_size, 1).double()\n",
        "\n",
        "    def forward(self, x):\n",
        "        \"\"\"\n",
        "        Forward pass of the model.\n",
        "\n",
        "        Args:\n",
        "            x (Tensor): Input data with shape (batch_size, input_size).\n",
        "\n",
        "        Returns:\n",
        "            Tensor: Predicted values with shape (batch_size, 1).\n",
        "\n",
        "        \"\"\"\n",
        "        return self.linear(x)\n",
        "\n",
        "    def loss(self, y_pred, y_true):\n",
        "        \"\"\"\n",
        "        Compute the loss function.\n",
        "\n",
        "        Args:\n",
        "            y_pred (Tensor): Predicted values with shape (batch_size, 1).\n",
        "            y_true (Tensor): True target values with shape (batch_size, 1).\n",
        "\n",
        "        Returns:\n",
        "            Tensor: The loss.\n",
        "\n",
        "        \"\"\"\n",
        "        mse_loss = nn.MSELoss()(y_pred, y_true)\n",
        "        l1_reg = torch.norm(self.linear.weight, p=1,dtype=torch.float64)\n",
        "        # l2_reg = torch.norm(self.linear.weight, p=2,dtype=torch.float64)\n",
        "\n",
        "        loss = (len(y_true)*mse_loss)**(1/2) + self.alpha * (l1_reg)\n",
        "\n",
        "        return loss\n",
        "\n",
        "    def fit(self, X, y, num_epochs=10000, learning_rate=0.01):\n",
        "        \"\"\"\n",
        "        Fit the model to the training data.\n",
        "\n",
        "        Args:\n",
        "            X (Tensor): Input data with shape (num_samples, input_size).\n",
        "            y (Tensor): Target values with shape (num_samples, 1).\n",
        "            num_epochs (int): Number of training epochs.\n",
        "            learning_rate (float): Learning rate for optimization.\n",
        "\n",
        "        \"\"\"\n",
        "        optimizer = optim.Adam(self.parameters(), lr=learning_rate)\n",
        "\n",
        "        for epoch in range(num_epochs):\n",
        "            self.train()\n",
        "            optimizer.zero_grad()\n",
        "            y_pred = self(X)\n",
        "            loss = self.loss(y_pred, y)\n",
        "            loss.backward()\n",
        "            optimizer.step()\n",
        "\n",
        "            if (epoch + 1) % 1000 == 0:\n",
        "                print(f\"Epoch [{epoch + 1}/{num_epochs}], Loss: {loss.item()}\")\n",
        "\n",
        "    def predict(self, X):\n",
        "        \"\"\"\n",
        "        Predict target values for input data.\n",
        "\n",
        "        Args:\n",
        "            X (Tensor): Input data with shape (num_samples, input_size).\n",
        "\n",
        "        Returns:\n",
        "            Tensor: Predicted values with shape (num_samples, 1).\n",
        "\n",
        "        \"\"\"\n",
        "        self.eval()\n",
        "        with torch.no_grad():\n",
        "            y_pred = self(X)\n",
        "        return y_pred\n",
        "    def get_coefficients(self):\n",
        "        \"\"\"\n",
        "        Get the coefficients (weights) of the linear regression layer.\n",
        "\n",
        "        Returns:\n",
        "            Tensor: Coefficients with shape (output_size, input_size).\n",
        "\n",
        "        \"\"\"\n",
        "        return self.linear.weight"
      ],
      "metadata": {
        "id": "_KZL9Lc3qt1g"
      },
      "execution_count": 132,
      "outputs": []
    },
    {
      "cell_type": "markdown",
      "source": [
        "### Testing the models"
      ],
      "metadata": {
        "id": "1RdbArPtrDUr"
      }
    },
    {
      "cell_type": "code",
      "source": [
        "beta =np.array([-1,2,3,0,0,0,0,2,-1,4])"
      ],
      "metadata": {
        "id": "2E1sT3rErCdw"
      },
      "execution_count": 156,
      "outputs": []
    },
    {
      "cell_type": "code",
      "source": [
        "beta = beta.reshape(-1,1)\n",
        "beta_star = np.concatenate([beta,np.repeat(0,p-len(beta)).reshape(-1,1)],axis=0)"
      ],
      "metadata": {
        "id": "_MmNgcJUrXZG"
      },
      "execution_count": 157,
      "outputs": []
    },
    {
      "cell_type": "code",
      "source": [
        "y = x@beta_star + 1.5*np.random.normal(size = (n,1))"
      ],
      "metadata": {
        "id": "NQu3f8DdroEn"
      },
      "execution_count": 158,
      "outputs": []
    },
    {
      "cell_type": "code",
      "source": [
        "xtrain, xtest, ytrain, ytest = tts(x,y,test_size=0.2,shuffle=True,random_state=123)"
      ],
      "metadata": {
        "id": "SvpaUpHKyt8x"
      },
      "execution_count": 159,
      "outputs": []
    },
    {
      "cell_type": "code",
      "source": [
        "x_scaled = scale.fit_transform(xtrain)\n",
        "xtest_tens = torch.tensor(x_scaled, device = device)\n",
        "ytest_tens = torch.tensor(ytrain, device = device)"
      ],
      "metadata": {
        "id": "4EACGtb7raQc"
      },
      "execution_count": 161,
      "outputs": []
    },
    {
      "cell_type": "code",
      "source": [
        "model_SCAD = SCADReg(input_size = x.size()[1])\n",
        "model_EN = ElasticNet(input_size = x.size()[1])\n",
        "model_SqrtLasso = sqrtLasso(input_size = x.size()[1])"
      ],
      "metadata": {
        "id": "Yk4qaJZPs8mD"
      },
      "execution_count": 147,
      "outputs": []
    },
    {
      "cell_type": "code",
      "source": [
        "model_SCAD = SCADReg(input_size = xtest_tens.size()[1])\n",
        "model_SCAD.fit(xtest_tens, ytest_tens)\n",
        "y_hat = model_SCAD.predict(xtest_tens)\n",
        "mse_loss = nn.MSELoss()(y_hat, ytest_tens)"
      ],
      "metadata": {
        "colab": {
          "base_uri": "https://localhost:8080/"
        },
        "id": "TzExXzI5uf1W",
        "outputId": "0727c70a-0b66-4d41-b21d-56573843b2e4"
      },
      "execution_count": 164,
      "outputs": [
        {
          "output_type": "stream",
          "name": "stdout",
          "text": [
            "Epoch [1000/10000], Loss: 1.3151421674105745\n",
            "Epoch [2000/10000], Loss: 1.0976174253130437\n",
            "Epoch [3000/10000], Loss: 1.0733681561908968\n",
            "Epoch [4000/10000], Loss: 1.072457815216144\n",
            "Epoch [5000/10000], Loss: 1.0724529875031295\n",
            "Epoch [6000/10000], Loss: 1.0724529777562744\n",
            "Epoch [7000/10000], Loss: 1.0724524586594706\n",
            "Epoch [8000/10000], Loss: 1.0724552779192258\n",
            "Epoch [9000/10000], Loss: 1.072460027360491\n",
            "Epoch [10000/10000], Loss: 1.0724646744753414\n"
          ]
        }
      ]
    },
    {
      "cell_type": "code",
      "source": [
        "model_SqrtLasso = sqrtLasso(input_size = xtest_tens.size()[1])\n",
        "model_SqrtLasso.fit(xtest_tens, ytest_tens)\n",
        "y_hat = model_SqrtLasso.predict(xtest_tens)\n",
        "mse_loss = nn.MSELoss()(y_hat, ytest_tens)"
      ],
      "metadata": {
        "colab": {
          "base_uri": "https://localhost:8080/"
        },
        "id": "aFz-yy_SutHV",
        "outputId": "80c1bdbc-42a2-4a96-db24-6689b34f0d6f"
      },
      "execution_count": 165,
      "outputs": [
        {
          "output_type": "stream",
          "name": "stdout",
          "text": [
            "Epoch [1000/10000], Loss: 30.6751338270882\n",
            "Epoch [2000/10000], Loss: 30.521426759661576\n",
            "Epoch [3000/10000], Loss: 30.521385374205103\n",
            "Epoch [4000/10000], Loss: 30.52153559974206\n",
            "Epoch [5000/10000], Loss: 30.521616522122887\n",
            "Epoch [6000/10000], Loss: 30.521543248149744\n",
            "Epoch [7000/10000], Loss: 30.521732154593955\n",
            "Epoch [8000/10000], Loss: 30.521734511637327\n",
            "Epoch [9000/10000], Loss: 30.521807895736977\n",
            "Epoch [10000/10000], Loss: 30.52156891463577\n"
          ]
        }
      ]
    },
    {
      "cell_type": "code",
      "source": [
        "model_EN = ElasticNet(input_size = xtest_tens.size()[1])\n",
        "model_EN.fit(xtest_tens, ytest_tens)\n",
        "y_hat = model_EN.predict(xtest_tens)\n",
        "mse_loss = nn.MSELoss()(y_hat, ytest_tens)"
      ],
      "metadata": {
        "colab": {
          "base_uri": "https://localhost:8080/"
        },
        "id": "ShvZE1XqvlpL",
        "outputId": "b80c2263-cc19-4bd2-e5fa-c4e853ffc91a"
      },
      "execution_count": 166,
      "outputs": [
        {
          "output_type": "stream",
          "name": "stdout",
          "text": [
            "Epoch [1000/10000], Loss: 9.021857302383726\n",
            "Epoch [2000/10000], Loss: 9.017577752421776\n",
            "Epoch [3000/10000], Loss: 9.016047487422668\n",
            "Epoch [4000/10000], Loss: 9.017165388247399\n",
            "Epoch [5000/10000], Loss: 9.012702954895332\n",
            "Epoch [6000/10000], Loss: 9.014681363381541\n",
            "Epoch [7000/10000], Loss: 9.014390451034965\n",
            "Epoch [8000/10000], Loss: 9.016199270106968\n",
            "Epoch [9000/10000], Loss: 9.014235268118831\n",
            "Epoch [10000/10000], Loss: 9.015929884126217\n"
          ]
        }
      ]
    },
    {
      "cell_type": "markdown",
      "source": [
        "### The SCAD model produces the lowest MSE, followed by Elastic Net, and then Sqaure Root Lasso."
      ],
      "metadata": {
        "id": "Ri7cxGHsSy4J"
      }
    }
  ]
}
